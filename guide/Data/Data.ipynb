{
 "cells": [
  {
   "cell_type": "code",
   "execution_count": null,
   "metadata": {},
   "outputs": [],
   "source": [
    "pip install pandas"
   ]
  },
  {
   "cell_type": "code",
   "execution_count": 15,
   "metadata": {},
   "outputs": [],
   "source": [
    "import pandas as pd"
   ]
  },
  {
   "cell_type": "code",
   "execution_count": 10,
   "metadata": {},
   "outputs": [],
   "source": [
    "Locations = {\n",
    "    \"Andhra Pradesh\": {\n",
    "        \"Visakhapatnam\": {\n",
    "            \"Araku Valley\": {\n",
    "                \"name\": \"Coffee Plantations\",\n",
    "                \"other_information\": \"Known for scenic beauty and fresh coffee.\"\n",
    "            }\n",
    "        },\n",
    "        \"Vijayawada\": {\n",
    "            \"Kanaka Durga Temple\": {\n",
    "                \"name\": \"Goddess Durga Shrine\",\n",
    "                \"other_information\": \"Located on Indrakeeladri Hill.\"\n",
    "            }\n",
    "        },\n",
    "        \"Tirupati\": {\n",
    "            \"Sri Venkateswara Temple\": {\n",
    "                \"name\": \"Sacred Hindu Temple\",\n",
    "                \"other_information\": \"One of the richest temples in the world.\"\n",
    "            }\n",
    "        }\n",
    "    },\n",
    "    \"Kerala\": {\n",
    "        \"Thiruvananthapuram\": {\n",
    "            \"Kovalam Beach\": {\n",
    "                \"name\": \"Lighthouse Beach\",\n",
    "                \"other_information\": \"Famous for its crescent-shaped shoreline.\"\n",
    "            }\n",
    "        },\n",
    "        \"Kochi\": {\n",
    "            \"Fort Kochi\": {\n",
    "                \"name\": \"Chinese Fishing Nets\",\n",
    "                \"other_information\": \"Historic fishing techniques and scenic sunsets.\"\n",
    "            }\n",
    "        },\n",
    "        \"Kozhikode\": {\n",
    "            \"Beypore\": {\n",
    "                \"name\": \"Shipbuilding Yard\",\n",
    "                \"other_information\": \"Known for traditional Uru ships.\"\n",
    "            }\n",
    "        }\n",
    "    },\n",
    "    \"Rajasthan\": {\n",
    "        \"Jaipur\": {\n",
    "            \"Hawa Mahal\": {\n",
    "                \"name\": \"Palace of Winds\",\n",
    "                \"other_information\": \"Iconic pink sandstone palace.\"\n",
    "            }\n",
    "        },\n",
    "        \"Udaipur\": {\n",
    "            \"Lake Palace\": {\n",
    "                \"name\": \"Floating Palace\",\n",
    "                \"other_information\": \"Situated in the middle of Lake Pichola.\"\n",
    "            }\n",
    "        },\n",
    "        \"Jodhpur\": {\n",
    "            \"Mehrangarh Fort\": {\n",
    "                \"name\": \"Historic Fort\",\n",
    "                \"other_information\": \"Famous for its imposing structure.\"\n",
    "            }\n",
    "        }\n",
    "    }\n",
    "}"
   ]
  },
  {
   "cell_type": "code",
   "execution_count": 11,
   "metadata": {},
   "outputs": [],
   "source": [
    "flattened_data = []\n",
    "for state, cities in Locations.items():\n",
    "    for city, places in cities.items():\n",
    "        for place, details in places.items():\n",
    "            flattened_data.append({\n",
    "                \"State\": state,\n",
    "                \"City\": city,\n",
    "                \"Place\": place,\n",
    "                \"Name\": details[\"name\"],\n",
    "                \"Other Information\": details[\"other_information\"]\n",
    "            })"
   ]
  },
  {
   "cell_type": "code",
   "execution_count": null,
   "metadata": {},
   "outputs": [],
   "source": [
    "# Create the DataFrame\n",
    "df = pd.DataFrame(flattened_data)\n",
    "df"
   ]
  }
 ],
 "metadata": {
  "kernelspec": {
   "display_name": "Python 3",
   "language": "python",
   "name": "python3"
  },
  "language_info": {
   "codemirror_mode": {
    "name": "ipython",
    "version": 3
   },
   "file_extension": ".py",
   "mimetype": "text/x-python",
   "name": "python",
   "nbconvert_exporter": "python",
   "pygments_lexer": "ipython3",
   "version": "3.13.0"
  }
 },
 "nbformat": 4,
 "nbformat_minor": 2
}
